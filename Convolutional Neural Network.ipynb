{
 "cells": [
  {
   "cell_type": "markdown",
   "id": "8d6c3156",
   "metadata": {},
   "source": [
    "## Importing the Libraries"
   ]
  },
  {
   "cell_type": "code",
   "execution_count": 1,
   "id": "b8e804ed",
   "metadata": {},
   "outputs": [],
   "source": [
    "import tensorflow as tf\n",
    "from keras.preprocessing.image import ImageDataGenerator"
   ]
  },
  {
   "cell_type": "markdown",
   "id": "d542a37d",
   "metadata": {},
   "source": [
    "## Part-1. Data Preprocessing"
   ]
  },
  {
   "cell_type": "markdown",
   "id": "e262ea5d",
   "metadata": {},
   "source": [
    "## Preprocessing the Training set"
   ]
  },
  {
   "cell_type": "code",
   "execution_count": 2,
   "id": "711dadb4",
   "metadata": {},
   "outputs": [
    {
     "name": "stdout",
     "output_type": "stream",
     "text": [
      "Found 8000 images belonging to 2 classes.\n"
     ]
    }
   ],
   "source": [
    "train_data=ImageDataGenerator(rescale=1./255,\n",
    "                             shear_range=0.2,\n",
    "                             zoom_range=0.2,\n",
    "                             horizontal_flip=True)\n",
    "training_set=train_data.flow_from_directory('Section 40 - Convolutional Neural Networks (CNN)/dataset/training_set',\n",
    "                                           target_size=(64,64),\n",
    "                                           batch_size=32,\n",
    "                                           class_mode='binary')"
   ]
  },
  {
   "cell_type": "code",
   "execution_count": null,
   "id": "4642ae08",
   "metadata": {},
   "outputs": [],
   "source": []
  },
  {
   "cell_type": "markdown",
   "id": "0f9e11fe",
   "metadata": {},
   "source": [
    "## Preprocessing the Test Set"
   ]
  },
  {
   "cell_type": "code",
   "execution_count": 3,
   "id": "51ce3c6c",
   "metadata": {},
   "outputs": [
    {
     "name": "stdout",
     "output_type": "stream",
     "text": [
      "Found 2000 images belonging to 2 classes.\n"
     ]
    }
   ],
   "source": [
    "test_data=ImageDataGenerator(rescale=1./255)\n",
    "test_set=test_data.flow_from_directory('Section 40 - Convolutional Neural Networks (CNN)/dataset/test_set',\n",
    "                                      target_size=(64,64),\n",
    "                                      batch_size=32,\n",
    "                                      class_mode='binary')"
   ]
  },
  {
   "cell_type": "markdown",
   "id": "b03fd66c",
   "metadata": {},
   "source": [
    "## Part-2 Building the CNN "
   ]
  },
  {
   "cell_type": "markdown",
   "id": "0620471f",
   "metadata": {},
   "source": [
    "## Initialising the CNN"
   ]
  },
  {
   "cell_type": "code",
   "execution_count": 5,
   "id": "1f85fabd",
   "metadata": {},
   "outputs": [],
   "source": [
    "cnn=tf.keras.models.Sequential()"
   ]
  },
  {
   "cell_type": "markdown",
   "id": "b9d93816",
   "metadata": {},
   "source": [
    "## Step 1- Convolution"
   ]
  },
  {
   "cell_type": "code",
   "execution_count": 7,
   "id": "0fe82f4e",
   "metadata": {},
   "outputs": [],
   "source": [
    "cnn.add(tf.keras.layers.Conv2D(filters=32,kernel_size=3,activation='relu',input_shape=[64,64,3]))"
   ]
  },
  {
   "cell_type": "markdown",
   "id": "0de10986",
   "metadata": {},
   "source": [
    "## Step 2- Pooling"
   ]
  },
  {
   "cell_type": "code",
   "execution_count": 8,
   "id": "d9d07e98",
   "metadata": {},
   "outputs": [],
   "source": [
    "cnn.add(tf.keras.layers.MaxPool2D(pool_size=2,strides=2))"
   ]
  },
  {
   "cell_type": "markdown",
   "id": "61f84bf7",
   "metadata": {},
   "source": [
    "## Adding the Second Convolution layer"
   ]
  },
  {
   "cell_type": "code",
   "execution_count": 9,
   "id": "f35e4859",
   "metadata": {},
   "outputs": [],
   "source": [
    "cnn.add(tf.keras.layers.Conv2D(filters=32,kernel_size=3,activation='relu'))\n",
    "cnn.add(tf.keras.layers.MaxPool2D(pool_size=2,strides=2))"
   ]
  },
  {
   "cell_type": "markdown",
   "id": "ddef938d",
   "metadata": {},
   "source": [
    "## Step-3 Flattening"
   ]
  },
  {
   "cell_type": "code",
   "execution_count": 10,
   "id": "42713caf",
   "metadata": {},
   "outputs": [],
   "source": [
    "cnn.add(tf.keras.layers.Flatten())"
   ]
  },
  {
   "cell_type": "markdown",
   "id": "fc5c4d43",
   "metadata": {},
   "source": [
    "## Full Connection"
   ]
  },
  {
   "cell_type": "code",
   "execution_count": 11,
   "id": "dc89607b",
   "metadata": {},
   "outputs": [],
   "source": [
    "cnn.add(tf.keras.layers.Dense(units=128,activation='relu'))"
   ]
  },
  {
   "cell_type": "markdown",
   "id": "a1608e8c",
   "metadata": {},
   "source": [
    "## Output Layer"
   ]
  },
  {
   "cell_type": "code",
   "execution_count": 12,
   "id": "48240627",
   "metadata": {},
   "outputs": [],
   "source": [
    "cnn.add(tf.keras.layers.Dense(units=1,activation='sigmoid'))"
   ]
  },
  {
   "cell_type": "markdown",
   "id": "62246d02",
   "metadata": {},
   "source": [
    "## Part 3- Training the CNN"
   ]
  },
  {
   "cell_type": "markdown",
   "id": "8fffddc1",
   "metadata": {},
   "source": [
    "## Compiling the CNN"
   ]
  },
  {
   "cell_type": "code",
   "execution_count": 13,
   "id": "9b8fd6c3",
   "metadata": {},
   "outputs": [],
   "source": [
    "cnn.compile(optimizer='adam',loss='binary_crossentropy',metrics=['accuracy'])"
   ]
  },
  {
   "cell_type": "markdown",
   "id": "4b838263",
   "metadata": {},
   "source": [
    "## Training the CNN on the Training set and evaluating it on the Test set"
   ]
  },
  {
   "cell_type": "code",
   "execution_count": 14,
   "id": "af3a6150",
   "metadata": {},
   "outputs": [
    {
     "name": "stdout",
     "output_type": "stream",
     "text": [
      "Epoch 1/25\n",
      "250/250 [==============================] - 413s 2s/step - loss: 0.6686 - accuracy: 0.5856 - val_loss: 0.6831 - val_accuracy: 0.5980\n",
      "Epoch 2/25\n",
      "250/250 [==============================] - 406s 2s/step - loss: 0.5959 - accuracy: 0.6835 - val_loss: 0.5572 - val_accuracy: 0.7105\n",
      "Epoch 3/25\n",
      "250/250 [==============================] - 375s 2s/step - loss: 0.5513 - accuracy: 0.7178 - val_loss: 0.5139 - val_accuracy: 0.7450\n",
      "Epoch 4/25\n",
      "250/250 [==============================] - 376s 1s/step - loss: 0.5157 - accuracy: 0.7501 - val_loss: 0.4949 - val_accuracy: 0.7550\n",
      "Epoch 5/25\n",
      "250/250 [==============================] - 377s 2s/step - loss: 0.4923 - accuracy: 0.7576 - val_loss: 0.4923 - val_accuracy: 0.7765\n",
      "Epoch 6/25\n",
      "250/250 [==============================] - 379s 2s/step - loss: 0.4761 - accuracy: 0.7709 - val_loss: 0.5162 - val_accuracy: 0.7560\n",
      "Epoch 7/25\n",
      "250/250 [==============================] - 373s 1s/step - loss: 0.4591 - accuracy: 0.7763 - val_loss: 0.4801 - val_accuracy: 0.7820\n",
      "Epoch 8/25\n",
      "250/250 [==============================] - 387s 2s/step - loss: 0.4374 - accuracy: 0.7951 - val_loss: 0.4763 - val_accuracy: 0.7790\n",
      "Epoch 9/25\n",
      "250/250 [==============================] - 380s 2s/step - loss: 0.4372 - accuracy: 0.7960 - val_loss: 0.4766 - val_accuracy: 0.7855\n",
      "Epoch 10/25\n",
      "250/250 [==============================] - 383s 2s/step - loss: 0.4192 - accuracy: 0.8101 - val_loss: 0.4498 - val_accuracy: 0.7910\n",
      "Epoch 11/25\n",
      "250/250 [==============================] - 375s 2s/step - loss: 0.4065 - accuracy: 0.8124 - val_loss: 0.4333 - val_accuracy: 0.8080\n",
      "Epoch 12/25\n",
      "250/250 [==============================] - 381s 2s/step - loss: 0.3986 - accuracy: 0.8156 - val_loss: 0.4608 - val_accuracy: 0.7875\n",
      "Epoch 13/25\n",
      "250/250 [==============================] - 379s 2s/step - loss: 0.3836 - accuracy: 0.8264 - val_loss: 0.4409 - val_accuracy: 0.8090\n",
      "Epoch 14/25\n",
      "250/250 [==============================] - 382s 2s/step - loss: 0.3705 - accuracy: 0.8328 - val_loss: 0.4571 - val_accuracy: 0.8030\n",
      "Epoch 15/25\n",
      "250/250 [==============================] - 380s 2s/step - loss: 0.3632 - accuracy: 0.8355 - val_loss: 0.5041 - val_accuracy: 0.7845\n",
      "Epoch 16/25\n",
      "250/250 [==============================] - 379s 2s/step - loss: 0.3580 - accuracy: 0.8359 - val_loss: 0.4433 - val_accuracy: 0.8160\n",
      "Epoch 17/25\n",
      "250/250 [==============================] - 382s 2s/step - loss: 0.3473 - accuracy: 0.8457 - val_loss: 0.4499 - val_accuracy: 0.8165\n",
      "Epoch 18/25\n",
      "250/250 [==============================] - 377s 2s/step - loss: 0.3286 - accuracy: 0.8558 - val_loss: 0.4742 - val_accuracy: 0.8050\n",
      "Epoch 19/25\n",
      "250/250 [==============================] - 376s 2s/step - loss: 0.3200 - accuracy: 0.8587 - val_loss: 0.4452 - val_accuracy: 0.8190\n",
      "Epoch 20/25\n",
      "250/250 [==============================] - 378s 2s/step - loss: 0.3213 - accuracy: 0.8602 - val_loss: 0.4627 - val_accuracy: 0.8105\n",
      "Epoch 21/25\n",
      "250/250 [==============================] - 382s 2s/step - loss: 0.3112 - accuracy: 0.8671 - val_loss: 0.4624 - val_accuracy: 0.8140\n",
      "Epoch 22/25\n",
      "250/250 [==============================] - 380s 2s/step - loss: 0.2953 - accuracy: 0.8711 - val_loss: 0.4897 - val_accuracy: 0.8120\n",
      "Epoch 23/25\n",
      "250/250 [==============================] - 388s 2s/step - loss: 0.2830 - accuracy: 0.8751 - val_loss: 0.4599 - val_accuracy: 0.8225\n",
      "Epoch 24/25\n",
      "250/250 [==============================] - 399s 2s/step - loss: 0.2741 - accuracy: 0.8839 - val_loss: 0.4864 - val_accuracy: 0.8180\n",
      "Epoch 25/25\n",
      "250/250 [==============================] - 409s 2s/step - loss: 0.2643 - accuracy: 0.8896 - val_loss: 0.4805 - val_accuracy: 0.8085\n"
     ]
    },
    {
     "data": {
      "text/plain": [
       "<keras.callbacks.History at 0x5a6a130>"
      ]
     },
     "execution_count": 14,
     "metadata": {},
     "output_type": "execute_result"
    }
   ],
   "source": [
    "cnn.fit(x=training_set,validation_data=test_set ,epochs=25)"
   ]
  },
  {
   "cell_type": "markdown",
   "id": "e9b0e5a0",
   "metadata": {},
   "source": [
    "## Part 4 - Making a single prediction"
   ]
  },
  {
   "cell_type": "code",
   "execution_count": 27,
   "id": "bb71a819",
   "metadata": {},
   "outputs": [
    {
     "name": "stdout",
     "output_type": "stream",
     "text": [
      "1/1 [==============================] - 0s 45ms/step\n"
     ]
    }
   ],
   "source": [
    "import numpy as np\n",
    "from keras.preprocessing import image\n",
    "test_image = keras.utils.load_img('Section 40 - Convolutional Neural Networks (CNN)/dataset/single_prediction/cat_or_dog_1.jpg',target_size=(64,64))\n",
    "test_image=keras.utils.img_to_array(test_image)\n",
    "test_image=np.expand_dims(test_image,axis=0)\n",
    "result=cnn.predict(test_image)\n",
    "training_set.class_indices\n",
    "if result[0][0] == 1:\n",
    "    prediction='Dog'\n",
    "else:\n",
    "    prediction='Cat'"
   ]
  },
  {
   "cell_type": "code",
   "execution_count": 28,
   "id": "57f3da22",
   "metadata": {},
   "outputs": [
    {
     "name": "stdout",
     "output_type": "stream",
     "text": [
      "Dog\n"
     ]
    }
   ],
   "source": [
    "print(prediction)"
   ]
  }
 ],
 "metadata": {
  "kernelspec": {
   "display_name": "Python 3",
   "language": "python",
   "name": "python3"
  },
  "language_info": {
   "codemirror_mode": {
    "name": "ipython",
    "version": 3
   },
   "file_extension": ".py",
   "mimetype": "text/x-python",
   "name": "python",
   "nbconvert_exporter": "python",
   "pygments_lexer": "ipython3",
   "version": "3.8.8"
  }
 },
 "nbformat": 4,
 "nbformat_minor": 5
}
